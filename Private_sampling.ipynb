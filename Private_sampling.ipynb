{
 "cells": [
  {
   "cell_type": "markdown",
   "metadata": {},
   "source": [
    "Private sampling implementation"
   ]
  },
  {
   "cell_type": "code",
   "execution_count": null,
   "metadata": {},
   "outputs": [],
   "source": [
    "pip install qpsolvers\n",
    "pip install sdgym==0.4.1"
   ]
  },
  {
   "cell_type": "code",
   "execution_count": 12,
   "metadata": {},
   "outputs": [],
   "source": [
    "import numpy as np\n",
    "import math\n",
    "from copy import deepcopy\n",
    "from tqdm import tqdm\n",
    "import scipy.linalg as sln\n",
    "from scipy.optimize import minimize\n",
    "from scipy.optimize import linprog\n",
    "from scipy.special import comb\n",
    "from time import time\n",
    "import numpy as np\n",
    "import random\n",
    "import qpsolvers\n",
    "import pandas as pd\n",
    "from sdgym.datasets import load_dataset, load_tables"
   ]
  },
  {
   "cell_type": "code",
   "execution_count": 17,
   "metadata": {},
   "outputs": [],
   "source": [
    "def subsets_indices(d,p):\n",
    "  \n",
    "      if d==1:\n",
    "        return [[[i] for i in range(p)]]\n",
    "      else:\n",
    "        a = subsets_indices(d-1,p)\n",
    "        b = deepcopy(a[-1])\n",
    "        n = len(b)\n",
    "        for i in range(len(b)):\n",
    "            for j in range(b[i][-1]+1,p):\n",
    "                b.append(b[i] + [j])\n",
    "        b = b[n:]\n",
    "        return a + [b]"
   ]
  },
  {
   "cell_type": "code",
   "execution_count": 65,
   "metadata": {},
   "outputs": [],
   "source": [
    "class density:\n",
    "\n",
    "    def __init__(self, data=None, type='data', space=None, inter=None, distr=None):\n",
    "\n",
    "        if type == 'data':\n",
    "          self.data = data\n",
    "          self.space, self.inter, self.dsy = np.unique(data, axis=0, return_counts=True, return_inverse=True)\n",
    "          self.dsy = self.dsy*(1/len(data))\n",
    "\n",
    "        elif type == 'distr':\n",
    "          self.data = None\n",
    "          self.space = space\n",
    "          self.inter = inter\n",
    "          self.dsy = np.zeros(len(space))\n",
    "          for i in range(len(distr)):\n",
    "            self.dsy[inter[i]] += distr[i]\n",
    "          \n",
    "        x = self.space.astype(int)\n",
    "        keys = np.array2string(x, threshold=10**5)\n",
    "        keys = keys[1:-1]\n",
    "        keys= keys.split('\\n ')\n",
    "        self.dsyDict = {keys[i] : self.dsy[i] for i in range(len(keys))}\n",
    "\n",
    "\n",
    "    def normalize(self):\n",
    "\n",
    "      self.dsy = self.dsy * 1/sum(self.dsy)\n",
    "\n",
    "\n",
    "    def noise_data(self, epsilon):\n",
    "      \n",
    "      noise = np.random.laplace(scale=1/epsilon,size=len(self.space))/(len(self.space))\n",
    "      dsy = self.dsy\n",
    "      dsy += noise\n",
    "      dsy = np.clip(dsy, a_min=0, a_max = np.inf)\n",
    "      print(dsy)\n",
    "      self.dsy = dsy * 1/sum(dsy)\n",
    "\n",
    "\n",
    "    def get_marginal(self,indices,value):\n",
    "      \n",
    "      dst = 0\n",
    "      for i in range(len(self.space)):\n",
    "        dst += np.array_equal(self.space[i][indices], value)*self.dsy[i]\n",
    "      return dst\n",
    "\n",
    "\n",
    "    def get_marginals(self,n):\n",
    "      indices = subsets_indices(n,len(self.space[0]))\n",
    "      indices = [item for sublist in indices for item in sublist]\n",
    "      dsts = np.zeros(len(indices))\n",
    "      for i in range(len(indices)):\n",
    "        dsts[i] = self.get_marginal(indices[i],[1]*len(indices[i]))\n",
    "      return dsts\n",
    "\n",
    "\n",
    "    def sample(self, n):\n",
    "      self.normalize()\n",
    "      rdt = random.choices(np.arange(len(self.space)),self.dsy,k=n)\n",
    "      return self.space[rdt]\n",
    "\n",
    "\n",
    "    @staticmethod\n",
    "    def arePerm(self, x,y):\n",
    "        if len(x) != len(y):\n",
    "            return False\n",
    "        x, y = x.astype(int), y.astype(int)\n",
    "        keys,tstkeys = np.array2string(x), np.array2string(y)\n",
    "        keys, tstkeys = keys[1:-1], tstkeys[1:-1]\n",
    "        keys, tstkeys = keys.split('\\n '), tstkeys.split('\\n ')\n",
    "        dct = dict.fromkeys(keys, True)\n",
    "        for tst in tstkeys:\n",
    "            if tst not in dct:\n",
    "                return False\n",
    "        return True\n",
    "    \n",
    "\n",
    "    def dsyToVal(self, input):\n",
    "        x = input.astype(int)\n",
    "        key = np.array2string(x)\n",
    "        if key not in self.dsyDict:\n",
    "            return 0\n",
    "        else:\n",
    "            return self.dsyDict[key]\n",
    "\n"
   ]
  },
  {
   "cell_type": "code",
   "execution_count": 18,
   "metadata": {},
   "outputs": [],
   "source": [
    "class PrivateSampler:\n",
    "    def __init__(self, data, m, d, delta, Delta):\n",
    "\n",
    "        data = 2*(data-1/2)\n",
    "        self.data = data\n",
    "        self.m = m\n",
    "        self.d = d\n",
    "        self.n = len(data)\n",
    "        self.p = len(data[0])\n",
    "        criteria = math.exp(2*d)*self.sum_comb(self.d,self.p)\n",
    "        if m>2**self.p:\n",
    "          print(f\"m larger than research space, cut m to {2**self.p}\")\n",
    "          self.m = 2**self.p\n",
    "        if self.m < criteria:\n",
    "          print(f'Warning : m = {self.m} should be at least greater than {criteria}')\n",
    "        print(f'{self.sum_comb(self.d,self.p)} marginals to be fitted with {self.n} rows')\n",
    "        self.empiricalDsy = density(data=data, type='data')\n",
    "        max_density = max(self.empiricalDsy.dsy)\n",
    "        self.Delta = Delta\n",
    "        if Delta < max_density * (2**self.p) :\n",
    "          print(f'Be careful : if the density is upper bounded by {max_density}, then Delta > {max_density * (2**self.p)}.')\n",
    "          print(f\"Setting Delta to {max_density * (2**self.p)}\")\n",
    "          self.Delta = max_density * (2**self.p)\n",
    "        alpha= (2**self.p)*min(self.empiricalDsy.get_marginals(1))**self.p\n",
    "        if delta < 8*(1/alpha)*math.sqrt(math.exp(2*d)*PrivateSampler.sum_comb(d,self.p)/self.m):\n",
    "          print(f'Be careful : if the density is bounded below by {min(self.empiricalDsy.get_marginals(1))**self.p}, then Then, delta>{8*(1/alpha)*math.sqrt(math.exp(2*d)*PrivateSampler.sum_comb(d,self.p)/self.m)}.')\n",
    "        self.empiricalUniformDsy = None\n",
    "        self.samplerDsy = None\n",
    "        self.space = None\n",
    "        self.delta = delta\n",
    "        \n",
    "\n",
    "    def fit(self):\n",
    "\n",
    "      self.create_space()\n",
    "      Mx = np.transpose(PrivateSampler.walsh_matrix(self.space,self.d))\n",
    "      Mobj = np.transpose(PrivateSampler.walsh_matrix(self.data,self.d))\n",
    "      f_obj = np.sum(Mobj, axis=1)\n",
    "      u_obj = np.sum(Mx, axis=1)\n",
    "      lbd = self.lambda_fit(Mx, u_obj, f_obj)\n",
    "      dsy = self.dsy_fit(lbd, Mx, f_obj, u_obj)\n",
    "      if abs(sum(dsy)-1) > 10**(-5):\n",
    "        print(f'Warning : density does not sum to 1 ({sum(dsy)})')\n",
    "      dsy = dsy / sum(dsy)\n",
    "      self.samplerDsy = density(distr=dsy,type='distr',space=self.empiricalUniformDsy.space,inter=self.empiricalUniformDsy.inter)\n",
    "      return\n",
    "\n",
    "\n",
    "    def sample(self,n):\n",
    "\n",
    "      return self.samplerDsy.sample(n)\n",
    "\n",
    "\n",
    "    @staticmethod\n",
    "    def sum_comb(d,p):\n",
    "\n",
    "      return sum(comb(p,i,exact=True) for i in range(1,d+1))\n",
    "\n",
    "\n",
    "    @staticmethod\n",
    "    def walsh(x,J):\n",
    "\n",
    "      prod = 1\n",
    "      for i in J:\n",
    "          prod *= x[i]\n",
    "      return prod\n",
    "    \n",
    "\n",
    "    @staticmethod\n",
    "    def walsh_matrix(s,d):\n",
    "\n",
    "      m = len(s)\n",
    "      p = len(s[0])\n",
    "      low_freq = sum(comb(p,i,exact=True) for i in range(1,d+1))\n",
    "      wls = np.zeros((m,low_freq))\n",
    "      indexes = subsets_indices(d,p)\n",
    "      indexes = [item for sublist in indexes for item in sublist]\n",
    "      for i in tqdm(range(m)):\n",
    "        for j in range(low_freq):\n",
    "            wls[i,j] = PrivateSampler.walsh(s[i],indexes[j])          \n",
    "      return wls \n",
    "\n",
    "\n",
    "    @staticmethod\n",
    "    def is_well_conditioned(M,m,d):\n",
    "\n",
    "      sv = sln.svdvals(M)\n",
    "      smallest = sv[-1]\n",
    "      bound = math.sqrt(m)/(2*math.exp(d))\n",
    "      return smallest > bound\n",
    "\n",
    "\n",
    "    #https://stackoverflow.com/questions/18296035/how-to-extract-the-bits-of-larger-numeric-numpy-data-types\n",
    "    def unpackbits(x, num_bits):\n",
    "\n",
    "      if np.issubdtype(x.dtype, np.floating):\n",
    "        raise ValueError(\"numpy data type needs to be int-like\")\n",
    "      xshape = list(x.shape)\n",
    "      x = x.reshape([-1, 1])\n",
    "      mask = 2**np.arange(num_bits, dtype=x.dtype).reshape([1, num_bits])\n",
    "      return (x & mask).astype(bool).astype(int).reshape(xshape + [num_bits])[:,::-1]\n",
    "\n",
    "\n",
    "    def create_space(self):\n",
    "      \n",
    "      conditioned = False\n",
    "      while not(conditioned):\n",
    "        draw = np.random.choice(np.arange(2**self.p), size=self.m, replace=False)\n",
    "        S = PrivateSampler.unpackbits(draw,self.p)\n",
    "        S = 2*(S-1/2)\n",
    "        M = PrivateSampler.walsh_matrix(S,self.d)\n",
    "        conditioned = PrivateSampler.is_well_conditioned(M,self.m,self.d)\n",
    "      self.space = S\n",
    "      self.empiricalUniformDsy = density(data=self.space, type='data')\n",
    "      return\n",
    "\n",
    "\n",
    "    def lambda_fit(self, Mx, u_obj, f_obj):\n",
    "\n",
    "      c = np.zeros(self.m+1)\n",
    "      c[0] = 1\n",
    "      Wx = np.zeros((len(Mx), len(Mx[0])+1))\n",
    "      Wx[:,1:] = Mx\n",
    "      U = np.zeros((len(u_obj),self.m+1))\n",
    "      F = np.zeros((len(f_obj),self.m+1))\n",
    "      U[:,0] = u_obj\n",
    "      F[:,0] = f_obj\n",
    "      b = u_obj\n",
    "      A = Wx + F - U\n",
    "\n",
    "      upperlbd = (self.Delta-self.delta)/self.m\n",
    "      lowerlbd = 2*self.delta/self.m\n",
    "      blbd = (lowerlbd,upperlbd)\n",
    "      bndslbd = ((0,1),) + (blbd,)*self.m\n",
    "\n",
    "      print('fitting lambda')\n",
    "      t = time()\n",
    "      lbd = linprog(c,A_eq=A,b_eq=b,bounds=bndslbd).x[0]\n",
    "      t = time()- t\n",
    "      print('in {}s'.format(t))\n",
    "      print('lambda : {}'.format(lbd))\n",
    "      return lbd\n",
    "\n",
    "\n",
    "    def dsy_fit(self, lbd, Mx, f_obj, u_obj):\n",
    "\n",
    "      match = ((1-lbd)/self.n)*f_obj + (lbd/self.m)*u_obj\n",
    "      upper = self.Delta/self.m\n",
    "      lower = self.delta/self.m\n",
    "\n",
    "      P = np.diag(np.ones(self.m))\n",
    "      Q = - np.ones(self.m)*1/self.m\n",
    "\n",
    "      b = np.zeros(len(match)+1)\n",
    "      b[:-1] = match\n",
    "      b[-1] = 1\n",
    "      A = np.zeros((len(Mx)+1, len(Mx[0])))\n",
    "      A[:-1] = Mx\n",
    "      A[-1] = np.ones(len(Mx[0]))\n",
    "\n",
    "      up = np.ones(self.m)*upper\n",
    "      low = np.ones(self.m)*lower\n",
    "\n",
    "      t = time()\n",
    "      print('fitting h')\n",
    "      sol = qpsolvers.solve_qp(P,Q,A=A,b=b,lb=low,ub=up)\n",
    "      t = time() - t\n",
    "      print('in {}s'.format(t))\n",
    "      return sol"
   ]
  },
  {
   "cell_type": "code",
   "execution_count": 13,
   "metadata": {},
   "outputs": [],
   "source": [
    "metadata = load_dataset('asia')\n",
    "tables = load_tables(metadata)\n",
    "data = tables['asia'].applymap(lambda x : 1 if x=='yes' else 0).to_numpy()"
   ]
  },
  {
   "cell_type": "code",
   "execution_count": 27,
   "metadata": {},
   "outputs": [],
   "source": [
    "m = 3500\n",
    "d = 2\n",
    "Delta=data.shape[0]/2\n",
    "delta=0.00001"
   ]
  },
  {
   "cell_type": "code",
   "execution_count": 15,
   "metadata": {},
   "outputs": [
    {
     "data": {
      "text/plain": [
       "(array([[0, 0, 1, ..., 0, 0, 0],\n",
       "        [0, 0, 0, ..., 0, 0, 1],\n",
       "        [0, 0, 1, ..., 0, 0, 0],\n",
       "        ...,\n",
       "        [0, 0, 0, ..., 0, 0, 0],\n",
       "        [0, 0, 1, ..., 0, 0, 0],\n",
       "        [0, 0, 1, ..., 0, 0, 0]], dtype=int64),\n",
       " (20000, 8))"
      ]
     },
     "execution_count": 15,
     "metadata": {},
     "output_type": "execute_result"
    }
   ],
   "source": [
    "data, data.shape"
   ]
  },
  {
   "cell_type": "code",
   "execution_count": 28,
   "metadata": {},
   "outputs": [
    {
     "name": "stdout",
     "output_type": "stream",
     "text": [
      "m larger than research space, cut m to 256\n",
      "Warning : m = 256 should be at least greater than 1965.5334011931925\n",
      "36 marginals to be fitted with 20000 rows\n",
      "Be careful : if the density is bounded below by 8.16651803662262e-17, then Then, delta>1060311148166572.8.\n"
     ]
    }
   ],
   "source": [
    "sampler = PrivateSampler(data, m, d, delta, Delta)"
   ]
  },
  {
   "cell_type": "markdown",
   "metadata": {},
   "source": [
    "On this dataset, the sampler finds no solution"
   ]
  },
  {
   "cell_type": "code",
   "execution_count": 29,
   "metadata": {},
   "outputs": [
    {
     "name": "stderr",
     "output_type": "stream",
     "text": [
      "100%|██████████| 256/256 [00:00<00:00, 42678.24it/s]\n",
      "100%|██████████| 256/256 [00:00<00:00, 50970.37it/s]\n",
      "100%|██████████| 20000/20000 [00:00<00:00, 50642.27it/s]"
     ]
    },
    {
     "name": "stdout",
     "output_type": "stream",
     "text": [
      "fitting lambda\n",
      "in 0.03561568260192871s\n",
      "lambda : 1.3875566701039697e-07\n",
      "fitting h\n",
      "in 0.036997318267822266s\n"
     ]
    },
    {
     "name": "stderr",
     "output_type": "stream",
     "text": [
      "\n"
     ]
    },
    {
     "ename": "TypeError",
     "evalue": "'NoneType' object is not iterable",
     "output_type": "error",
     "traceback": [
      "\u001b[1;31m---------------------------------------------------------------------------\u001b[0m",
      "\u001b[1;31mTypeError\u001b[0m                                 Traceback (most recent call last)",
      "\u001b[1;32mc:\\Users\\clement\\work\\psample\\Private_sampling.ipynb Cell 13'\u001b[0m in \u001b[0;36m<cell line: 1>\u001b[1;34m()\u001b[0m\n\u001b[1;32m----> <a href='vscode-notebook-cell:/c%3A/Users/clement/work/psample/Private_sampling.ipynb#ch0000011?line=0'>1</a>\u001b[0m sampler\u001b[39m.\u001b[39;49mfit()\n",
      "\u001b[1;32mc:\\Users\\clement\\work\\psample\\Private_sampling.ipynb Cell 6'\u001b[0m in \u001b[0;36mPrivateSampler.fit\u001b[1;34m(self)\u001b[0m\n\u001b[0;32m     <a href='vscode-notebook-cell:/c%3A/Users/clement/work/psample/Private_sampling.ipynb#ch0000001?line=39'>40</a>\u001b[0m lbd \u001b[39m=\u001b[39m \u001b[39mself\u001b[39m\u001b[39m.\u001b[39mlambda_fit(Mx, u_obj, f_obj)\n\u001b[0;32m     <a href='vscode-notebook-cell:/c%3A/Users/clement/work/psample/Private_sampling.ipynb#ch0000001?line=40'>41</a>\u001b[0m dsy \u001b[39m=\u001b[39m \u001b[39mself\u001b[39m\u001b[39m.\u001b[39mdsy_fit(lbd, Mx, f_obj, u_obj)\n\u001b[1;32m---> <a href='vscode-notebook-cell:/c%3A/Users/clement/work/psample/Private_sampling.ipynb#ch0000001?line=41'>42</a>\u001b[0m \u001b[39mif\u001b[39;00m \u001b[39mabs\u001b[39m(\u001b[39msum\u001b[39;49m(dsy)\u001b[39m-\u001b[39m\u001b[39m1\u001b[39m) \u001b[39m>\u001b[39m \u001b[39m10\u001b[39m\u001b[39m*\u001b[39m\u001b[39m*\u001b[39m(\u001b[39m-\u001b[39m\u001b[39m5\u001b[39m):\n\u001b[0;32m     <a href='vscode-notebook-cell:/c%3A/Users/clement/work/psample/Private_sampling.ipynb#ch0000001?line=42'>43</a>\u001b[0m   \u001b[39mprint\u001b[39m(\u001b[39mf\u001b[39m\u001b[39m'\u001b[39m\u001b[39mWarning : density does not sum to 1 (\u001b[39m\u001b[39m{\u001b[39;00m\u001b[39msum\u001b[39m(dsy)\u001b[39m}\u001b[39;00m\u001b[39m)\u001b[39m\u001b[39m'\u001b[39m)\n\u001b[0;32m     <a href='vscode-notebook-cell:/c%3A/Users/clement/work/psample/Private_sampling.ipynb#ch0000001?line=43'>44</a>\u001b[0m dsy \u001b[39m=\u001b[39m dsy \u001b[39m/\u001b[39m \u001b[39msum\u001b[39m(dsy)\n",
      "\u001b[1;31mTypeError\u001b[0m: 'NoneType' object is not iterable"
     ]
    }
   ],
   "source": [
    "sampler.fit()"
   ]
  },
  {
   "cell_type": "markdown",
   "metadata": {},
   "source": [
    "Trying to fit with delta==0 :"
   ]
  },
  {
   "cell_type": "code",
   "execution_count": 66,
   "metadata": {},
   "outputs": [
    {
     "name": "stdout",
     "output_type": "stream",
     "text": [
      "m larger than research space, cut m to 256\n",
      "Warning : m = 256 should be at least greater than 1965.5334011931925\n",
      "36 marginals to be fitted with 20000 rows\n",
      "Be careful : if the density is bounded below by 8.16651803662262e-17, then Then, delta>1060311148166572.8.\n"
     ]
    }
   ],
   "source": [
    "sampler = PrivateSampler(data, m, d, 0, Delta)"
   ]
  },
  {
   "cell_type": "code",
   "execution_count": 67,
   "metadata": {},
   "outputs": [
    {
     "name": "stderr",
     "output_type": "stream",
     "text": [
      "100%|██████████| 256/256 [00:00<00:00, 53818.95it/s]\n",
      "100%|██████████| 256/256 [00:00<00:00, 39300.97it/s]\n",
      "100%|██████████| 20000/20000 [00:00<00:00, 49128.13it/s]"
     ]
    },
    {
     "name": "stdout",
     "output_type": "stream",
     "text": [
      "fitting lambda\n",
      "in 0.030935287475585938s\n",
      "lambda : 1.3875566785554005e-07\n",
      "fitting h\n",
      "in 0.03824925422668457s\n"
     ]
    },
    {
     "name": "stderr",
     "output_type": "stream",
     "text": [
      "\n"
     ]
    }
   ],
   "source": [
    "sampler.fit()"
   ]
  },
  {
   "cell_type": "markdown",
   "metadata": {},
   "source": [
    "Here, for m big enough, the density computed is close to the empirical density of X on S"
   ]
  },
  {
   "cell_type": "code",
   "execution_count": 83,
   "metadata": {},
   "outputs": [],
   "source": [
    "empiricalRestricted = np.zeros(sampler.m)\n",
    "samplerDsy = np.zeros(sampler.m)"
   ]
  },
  {
   "cell_type": "code",
   "execution_count": 84,
   "metadata": {},
   "outputs": [],
   "source": [
    "for i,j in enumerate(sampler.samplerDsy.dsyDict):\n",
    "    try:\n",
    "        empiricalRestricted[i] = sampler.empiricalDsy.dsyDict[j]\n",
    "    except:\n",
    "        empiricalRestricted[i] = 0\n",
    "    samplerDsy[i] = sampler.samplerDsy.dsyDict[j]"
   ]
  },
  {
   "cell_type": "code",
   "execution_count": 86,
   "metadata": {},
   "outputs": [],
   "source": [
    "empiricalRestricted = empiricalRestricted/sum(empiricalRestricted)"
   ]
  },
  {
   "cell_type": "markdown",
   "metadata": {},
   "source": [
    "Computing the L2 distance between the empirical density and the sampler density on S :"
   ]
  },
  {
   "cell_type": "code",
   "execution_count": 87,
   "metadata": {},
   "outputs": [
    {
     "data": {
      "text/plain": [
       "0.03997263958525846"
      ]
     },
     "execution_count": 87,
     "metadata": {},
     "output_type": "execute_result"
    }
   ],
   "source": [
    "np.linalg.norm(empiricalRestricted-samplerDsy)"
   ]
  },
  {
   "cell_type": "code",
   "execution_count": null,
   "metadata": {},
   "outputs": [],
   "source": []
  }
 ],
 "metadata": {
  "interpreter": {
   "hash": "cf21d769c17241c469396282b798d944a1a063fd01c8e8136dc461b0f1816442"
  },
  "kernelspec": {
   "display_name": "Python 3.8.13 ('psample')",
   "language": "python",
   "name": "python3"
  },
  "language_info": {
   "codemirror_mode": {
    "name": "ipython",
    "version": 3
   },
   "file_extension": ".py",
   "mimetype": "text/x-python",
   "name": "python",
   "nbconvert_exporter": "python",
   "pygments_lexer": "ipython3",
   "version": "3.8.13"
  },
  "orig_nbformat": 4
 },
 "nbformat": 4,
 "nbformat_minor": 2
}
